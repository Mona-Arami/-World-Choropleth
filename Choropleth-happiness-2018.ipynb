{
 "cells": [
  {
   "cell_type": "markdown",
   "metadata": {},
   "source": [
    "# World Choropleth Map for Happiness Score in 2018"
   ]
  },
  {
   "cell_type": "code",
   "execution_count": null,
   "metadata": {},
   "outputs": [],
   "source": [
    "import plotly\n",
    "plotly.__version__"
   ]
  },
  {
   "cell_type": "code",
   "execution_count": null,
   "metadata": {},
   "outputs": [],
   "source": [
    "import plotly.plotly as py\n",
    "import pandas as pd\n",
    "import plotly.graph_objs as go\n",
    "\n",
    "df_code = pd.read_csv('dataset/country_3codes.csv')\n",
    "df_code = df_code.rename(index=str, columns={\"COUNTRY\": \"Country\"})\n",
    "\n",
    "df_Happiness_score = pd.read_csv('dataset/2018.csv')\n",
    "merge_df = pd.merge(df_code, df_Happiness_score , on=\"Country\")\n",
    "merge_df.head()\n"
   ]
  },
  {
   "cell_type": "code",
   "execution_count": null,
   "metadata": {},
   "outputs": [],
   "source": [
    "data = [go.Choropleth(\n",
    "    locations = merge_df['CODE'],\n",
    "    z = merge_df['Happiness Score'],\n",
    "    text = merge_df['Country'],\n",
    "    colorscale = [\n",
    "        [0, \"rgb(150, 50, 50)\"],\n",
    "        [0.35, \"rgb(40, 60, 190)\"],\n",
    "        [0.5, \"rgb(70, 100, 245)\"],\n",
    "        [0.6, \"rgb(90, 120, 245)\"],\n",
    "        [0.7, \"rgb(106, 137, 247)\"],\n",
    "        [1, \"rgb(220, 220, 220)\"]\n",
    "    ],\n",
    "    autocolorscale = False,\n",
    "    reversescale = True,\n",
    "    marker = go.choropleth.Marker(\n",
    "        line = go.choropleth.marker.Line(\n",
    "            color = 'rgb(180,180,180)',\n",
    "            width = 0.5\n",
    "        )),\n",
    "    colorbar = go.choropleth.ColorBar(\n",
    "        title = 'Happiness Score'),\n",
    ")]\n",
    "\n",
    "layout = go.Layout(\n",
    "    title = go.layout.Title(\n",
    "        text = 'Happiness Around the World - 2018'\n",
    "    ),\n",
    "    geo = go.layout.Geo(\n",
    "        showframe = False,\n",
    "        showcoastlines = False,\n",
    "        projection = go.layout.geo.Projection(\n",
    "            type = 'equirectangular'\n",
    "        )\n",
    "    ),\n",
    "    annotations = [go.layout.Annotation(\n",
    "        x = 0.55,\n",
    "        y = 0.1,\n",
    "        xref = 'paper',\n",
    "        yref = 'paper',\n",
    "        text = 'Source: Group Project, Data Analytic BootCamp, University of Denver'\n",
    "    )]\n",
    ")\n",
    "\n",
    "fig = go.Figure(data = data, layout = layout)\n",
    "py.iplot(fig, filename = 'd3-world-map')\n"
   ]
  },
  {
   "cell_type": "markdown",
   "metadata": {},
   "source": [
    "## "
   ]
  },
  {
   "cell_type": "code",
   "execution_count": null,
   "metadata": {},
   "outputs": [],
   "source": []
  }
 ],
 "metadata": {
  "kernelspec": {
   "display_name": "Python 3",
   "language": "python",
   "name": "python3"
  },
  "language_info": {
   "codemirror_mode": {
    "name": "ipython",
    "version": 3
   },
   "file_extension": ".py",
   "mimetype": "text/x-python",
   "name": "python",
   "nbconvert_exporter": "python",
   "pygments_lexer": "ipython3",
   "version": "3.7.1"
  }
 },
 "nbformat": 4,
 "nbformat_minor": 2
}
